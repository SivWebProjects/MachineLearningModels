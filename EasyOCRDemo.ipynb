{
 "cells": [
  {
   "cell_type": "code",
   "execution_count": 2,
   "id": "7768b4b0",
   "metadata": {},
   "outputs": [],
   "source": [
    "import cv2\n",
    "import easyocr\n",
    "import numpy as np\n",
    "from matplotlib import pyplot as plt"
   ]
  },
  {
   "cell_type": "code",
   "execution_count": 30,
   "id": "8772c4f9",
   "metadata": {},
   "outputs": [
    {
     "name": "stderr",
     "output_type": "stream",
     "text": [
      "Using CPU. Note: This module is much faster with a GPU.\n"
     ]
    },
    {
     "data": {
      "text/plain": [
       "[([[475, 93], [577, 93], [577, 133], [475, 133]], 'Girrd', 0.4817624966358451),\n",
       " ([[184, 275], [883, 275], [883, 424], [184, 424]],\n",
       "  'MHI2DE1433',\n",
       "  0.6432307187568961),\n",
       " ([[849, 619], [1024, 619], [1024, 663], [849, 663]],\n",
       "  'Planet Forc',\n",
       "  0.996962828407743),\n",
       " ([[13, 727], [65, 727], [65, 739], [13, 739]],\n",
       "  'BEMED @N',\n",
       "  0.14897731279145957),\n",
       " ([[3, 736], [192, 736], [192, 760], [3, 760]],\n",
       "  'Team-BHBcom',\n",
       "  0.18269685509710246)]"
      ]
     },
     "execution_count": 30,
     "metadata": {},
     "output_type": "execute_result"
    }
   ],
   "source": [
    "img = 'car1.jpeg'\n",
    "reader = easyocr.Reader(['en'], gpu = False)\n",
    "\n",
    "#default value of detail is 1 and paragraph value is False\n",
    "#paragraph = True will combine all results\n",
    "#if detail value is 0 it returns only the text\n",
    "result = reader.readtext(img,paragraph=False)\n",
    "result"
   ]
  },
  {
   "cell_type": "code",
   "execution_count": 31,
   "id": "75a662c0",
   "metadata": {},
   "outputs": [
    {
     "data": {
      "text/plain": [
       "5"
      ]
     },
     "execution_count": 31,
     "metadata": {},
     "output_type": "execute_result"
    }
   ],
   "source": [
    "len(result)"
   ]
  },
  {
   "cell_type": "code",
   "execution_count": 32,
   "id": "ab46c857",
   "metadata": {},
   "outputs": [
    {
     "data": {
      "text/plain": [
       "[('Girrd', 0.4817624966358451),\n",
       " ('MHI2DE1433', 0.6432307187568961),\n",
       " ('Planet Forc', 0.996962828407743),\n",
       " ('BEMED @N', 0.14897731279145957),\n",
       " ('Team-BHBcom', 0.18269685509710246)]"
      ]
     },
     "execution_count": 32,
     "metadata": {},
     "output_type": "execute_result"
    }
   ],
   "source": [
    "length = len(result)\n",
    "text_list = []\n",
    "for i in range(0, length):\n",
    "    text_list.append((result[i][1], result[i][2]))\n",
    "text_list"
   ]
  },
  {
   "cell_type": "code",
   "execution_count": 34,
   "id": "1e69fd99",
   "metadata": {},
   "outputs": [
    {
     "name": "stdout",
     "output_type": "stream",
     "text": [
      "Girrd\n",
      "MHI2DE1433\n",
      "Planet Forc\n",
      "BEMED @N\n",
      "Team-BHBcom\n"
     ]
    },
    {
     "data": {
      "text/plain": [
       "[('MHI2DE1433', 0.6432307187568961)]"
      ]
     },
     "execution_count": 34,
     "metadata": {},
     "output_type": "execute_result"
    }
   ],
   "source": [
    "new_text_list = []\n",
    "\n",
    "for i in range(len(result)):\n",
    "    text = result[i][1].strip()\n",
    "    print(text)\n",
    "    \n",
    "    if (len(text)>7) and (len(text)<14):\n",
    "        if text.isalnum():\n",
    "            new_text_list.append((text, result[i][2]))\n",
    "            \n",
    "new_text_list"
   ]
  },
  {
   "cell_type": "code",
   "execution_count": 24,
   "id": "7a07fa76",
   "metadata": {},
   "outputs": [
    {
     "name": "stderr",
     "output_type": "stream",
     "text": [
      "Using CPU. Note: This module is much faster with a GPU.\n"
     ]
    },
    {
     "data": {
      "text/plain": [
       "[[[[475, 93], [577, 93], [577, 133], [475, 133]], 'Girrd'],\n",
       " [[[184, 275], [883, 275], [883, 424], [184, 424]], 'MHI2DE1433'],\n",
       " [[[849, 619], [1024, 619], [1024, 663], [849, 663]], 'Planet Forc'],\n",
       " [[[3, 727], [192, 727], [192, 760], [3, 760]], 'BEMED @N Team-BHBcom']]"
      ]
     },
     "execution_count": 24,
     "metadata": {},
     "output_type": "execute_result"
    }
   ],
   "source": [
    "reader2 = easyocr.Reader(['en'], gpu = False)\n",
    "result2 = reader2.readtext(img, paragraph = True)\n",
    "result2"
   ]
  },
  {
   "cell_type": "code",
   "execution_count": 25,
   "id": "74836d99",
   "metadata": {},
   "outputs": [
    {
     "data": {
      "text/plain": [
       "'MHI2DE1433'"
      ]
     },
     "execution_count": 25,
     "metadata": {},
     "output_type": "execute_result"
    }
   ],
   "source": [
    "result2[1][-1]"
   ]
  },
  {
   "cell_type": "code",
   "execution_count": 26,
   "id": "8e82d38f",
   "metadata": {},
   "outputs": [
    {
     "data": {
      "text/plain": [
       "10"
      ]
     },
     "execution_count": 26,
     "metadata": {},
     "output_type": "execute_result"
    }
   ],
   "source": [
    "len(result2[1][1])"
   ]
  }
 ],
 "metadata": {
  "kernelspec": {
   "display_name": "Python 3 (ipykernel)",
   "language": "python",
   "name": "python3"
  },
  "language_info": {
   "codemirror_mode": {
    "name": "ipython",
    "version": 3
   },
   "file_extension": ".py",
   "mimetype": "text/x-python",
   "name": "python",
   "nbconvert_exporter": "python",
   "pygments_lexer": "ipython3",
   "version": "3.9.7"
  }
 },
 "nbformat": 4,
 "nbformat_minor": 5
}
