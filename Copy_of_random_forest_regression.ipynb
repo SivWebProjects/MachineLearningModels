{
  "nbformat": 4,
  "nbformat_minor": 0,
  "metadata": {
    "colab": {
      "name": "Copy of random_forest_regression.ipynb",
      "provenance": [],
      "include_colab_link": true
    },
    "kernelspec": {
      "name": "python3",
      "display_name": "Python 3"
    }
  },
  "cells": [
    {
      "cell_type": "markdown",
      "metadata": {
        "id": "view-in-github",
        "colab_type": "text"
      },
      "source": [
        "<a href=\"https://colab.research.google.com/github/SivWebProjects/MachineLearningModels/blob/main/Copy_of_random_forest_regression.ipynb\" target=\"_parent\"><img src=\"https://colab.research.google.com/assets/colab-badge.svg\" alt=\"Open In Colab\"/></a>"
      ]
    },
    {
      "cell_type": "markdown",
      "metadata": {
        "id": "LeamvpPVXuS_"
      },
      "source": [
        "# Random Forest Regression"
      ]
    },
    {
      "cell_type": "markdown",
      "metadata": {
        "id": "O2wvZ7SKXzVC"
      },
      "source": [
        "## Importing the libraries"
      ]
    },
    {
      "cell_type": "code",
      "source": [
        "import numpy as np\n",
        "import matplotlib.pyplot as plt\n",
        "import pandas as pd"
      ],
      "metadata": {
        "id": "S9gh_h5yGELR"
      },
      "execution_count": 10,
      "outputs": []
    },
    {
      "cell_type": "markdown",
      "metadata": {
        "id": "zgbK_F8-X7em"
      },
      "source": [
        "## Importing the dataset"
      ]
    },
    {
      "cell_type": "code",
      "source": [
        "dataset = pd.read_csv('Position_Salaries.csv')\n",
        "print(dataset)\n",
        "x = dataset.iloc[:, 1:-1].values\n",
        "y = dataset.iloc[:, -1].values"
      ],
      "metadata": {
        "id": "n7VWNC1ZGE61",
        "colab": {
          "base_uri": "https://localhost:8080/"
        },
        "outputId": "8f197f0c-7d36-4644-c2f8-aa98843898c0"
      },
      "execution_count": 11,
      "outputs": [
        {
          "output_type": "stream",
          "name": "stdout",
          "text": [
            "            Position  Level   Salary\n",
            "0   Business Analyst      1    45000\n",
            "1  Junior Consultant      2    50000\n",
            "2  Senior Consultant      3    60000\n",
            "3            Manager      4    80000\n",
            "4    Country Manager      5   110000\n",
            "5     Region Manager      6   150000\n",
            "6            Partner      7   200000\n",
            "7     Senior Partner      8   300000\n",
            "8            C-level      9   500000\n",
            "9                CEO     10  1000000\n"
          ]
        }
      ]
    },
    {
      "cell_type": "code",
      "source": [
        "print(x)"
      ],
      "metadata": {
        "colab": {
          "base_uri": "https://localhost:8080/"
        },
        "id": "TYN3x8-2LHXW",
        "outputId": "627f9f95-715a-4cfd-a3a2-f0c6602169d2"
      },
      "execution_count": 12,
      "outputs": [
        {
          "output_type": "stream",
          "name": "stdout",
          "text": [
            "[[ 1]\n",
            " [ 2]\n",
            " [ 3]\n",
            " [ 4]\n",
            " [ 5]\n",
            " [ 6]\n",
            " [ 7]\n",
            " [ 8]\n",
            " [ 9]\n",
            " [10]]\n"
          ]
        }
      ]
    },
    {
      "cell_type": "code",
      "source": [
        "print(y)"
      ],
      "metadata": {
        "colab": {
          "base_uri": "https://localhost:8080/"
        },
        "id": "KEj-LpVILHAN",
        "outputId": "419c1f67-482a-43d0-a928-14f1ee5c529f"
      },
      "execution_count": 13,
      "outputs": [
        {
          "output_type": "stream",
          "name": "stdout",
          "text": [
            "[  45000   50000   60000   80000  110000  150000  200000  300000  500000\n",
            " 1000000]\n"
          ]
        }
      ]
    },
    {
      "cell_type": "markdown",
      "metadata": {
        "id": "v4S2fyIBYDcu"
      },
      "source": [
        "## Training the Random Forest Regression model on the whole dataset"
      ]
    },
    {
      "cell_type": "code",
      "source": [
        "from sklearn.ensemble import RandomForestRegressor\n",
        "regressor = RandomForestRegressor(n_estimators = 10, random_state = 1) #array([165000.])\n",
        "regressor.fit(x, y)"
      ],
      "metadata": {
        "colab": {
          "base_uri": "https://localhost:8080/"
        },
        "id": "sC28404OSvPZ",
        "outputId": "ed570407-2e9a-41d3-92a2-dbf38372fda5"
      },
      "execution_count": 14,
      "outputs": [
        {
          "output_type": "execute_result",
          "data": {
            "text/plain": [
              "RandomForestRegressor(n_estimators=10, random_state=1)"
            ]
          },
          "metadata": {},
          "execution_count": 14
        }
      ]
    },
    {
      "cell_type": "markdown",
      "metadata": {
        "id": "8IbsXbK3YM4M"
      },
      "source": [
        "## Predicting a new result"
      ]
    },
    {
      "cell_type": "code",
      "source": [
        "regressor.predict([[6.5]])"
      ],
      "metadata": {
        "colab": {
          "base_uri": "https://localhost:8080/"
        },
        "id": "rjjNPXA_GGWI",
        "outputId": "9256b552-b4cb-4caa-9a6e-e831a42fcf91"
      },
      "execution_count": 15,
      "outputs": [
        {
          "output_type": "execute_result",
          "data": {
            "text/plain": [
              "array([165000.])"
            ]
          },
          "metadata": {},
          "execution_count": 15
        }
      ]
    },
    {
      "cell_type": "markdown",
      "metadata": {
        "id": "kLqF9yMbYTon"
      },
      "source": [
        "## Visualising the Random Forest Regression results (higher resolution)"
      ]
    },
    {
      "cell_type": "code",
      "source": [
        "x_grid = np.arange(min(x), max(x), 0.01)\n",
        "x_grid = x_grid.reshape(len(x_grid),1)\n",
        "plt.scatter(x, y, color = 'red')\n",
        "plt.plot(x_grid, regressor.predict(x_grid), color = 'blue')\n",
        "plt.title('Truth or Bluff (Random Forest Regression)')\n",
        "plt.xlabel('Position Level')\n",
        "plt.ylabel('Salary')\n",
        "plt.show()"
      ],
      "metadata": {
        "colab": {
          "base_uri": "https://localhost:8080/",
          "height": 295
        },
        "id": "XGsAwxhPGHSb",
        "outputId": "e7b0e408-034e-434a-d0d4-1814950af37d"
      },
      "execution_count": 16,
      "outputs": [
        {
          "output_type": "display_data",
          "data": {
            "image/png": "[encoded data removed]",
            "text/plain": [
              "<Figure size 432x288 with 1 Axes>"
            ]
          },
          "metadata": {
            "needs_background": "light"
          }
        }
      ]
    },
    {
      "cell_type": "markdown",
      "source": [
        "# Predicting the Train Set Results"
      ],
      "metadata": {
        "id": "N20OwrZa_kPJ"
      }
    },
    {
      "cell_type": "code",
      "source": [
        "y_pred = regressor.predict(x)\n",
        "np.set_printoptions(precision = 2)\n",
        "print(np.concatenate((y_pred.reshape(len(y_pred), 1), y.reshape(len(y), 1)), 1))"
      ],
      "metadata": {
        "id": "HLbjOKGSq8_E",
        "colab": {
          "base_uri": "https://localhost:8080/"
        },
        "outputId": "bfda97c2-a0a5-4300-9a2e-e8d9bc9ee6e9"
      },
      "execution_count": 17,
      "outputs": [
        {
          "output_type": "stream",
          "name": "stdout",
          "text": [
            "[[  52500.   45000.]\n",
            " [  53500.   50000.]\n",
            " [  57000.   60000.]\n",
            " [  74000.   80000.]\n",
            " [ 107000.  110000.]\n",
            " [ 138000.  150000.]\n",
            " [ 185000.  200000.]\n",
            " [ 290000.  300000.]\n",
            " [ 430000.  500000.]\n",
            " [ 820000. 1000000.]]\n"
          ]
        }
      ]
    }
  ]
}